{
 "cells": [
  {
   "cell_type": "code",
   "execution_count": 1,
   "id": "419327f9",
   "metadata": {},
   "outputs": [],
   "source": [
    "import tensorflow as tf\n",
    "import numpy as np\n",
    "import matplotlib.pyplot as plt\n",
    "\n",
    "from tensorflow.keras.models import Sequential\n",
    "from tensorflow.keras.layers import Dense, Activation, Dropout, Flatten, Conv2D, MaxPooling2D\n",
    "from tensorflow.keras.preprocessing.image import ImageDataGenerator\n",
    "from tensorflow.keras import optimizers, initializers, regularizers, metrics"
   ]
  },
  {
   "cell_type": "code",
   "execution_count": 4,
   "id": "131a4c9e",
   "metadata": {},
   "outputs": [],
   "source": [
    "b_size = 5\n",
    "train_datagen = ImageDataGenerator(rescale=1./255, horizontal_flip=True, #수평 대칭 이미지를 50% 확률로 만듬\n",
    "                                   width_shift_range=0.1, #width_shift_range 전체 크기의 10% 범위에서 좌우로이동\n",
    "                                  height_shift_range=0.1, fill_mode='nearest') "
   ]
  },
  {
   "cell_type": "code",
   "execution_count": 15,
   "id": "9ed8c5c4",
   "metadata": {},
   "outputs": [
    {
     "name": "stdout",
     "output_type": "stream",
     "text": [
      "Found 160 images belonging to 2 classes.\n"
     ]
    }
   ],
   "source": [
    "train_generator = train_datagen.flow_from_directory('deeplearning/run_project/train', target_size=(150,150), batch_size=b_size,\n",
    "                                                     class_mode='binary')"
   ]
  },
  {
   "cell_type": "code",
   "execution_count": 13,
   "id": "edb3ebe5",
   "metadata": {},
   "outputs": [
    {
     "name": "stdout",
     "output_type": "stream",
     "text": [
      "Found 120 images belonging to 2 classes.\n"
     ]
    }
   ],
   "source": [
    "test_datagen = ImageDataGenerator(rescale=1./255)\n",
    "test_generator = test_datagen.flow_from_directory('deeplearning/run_project/test', target_size=(150,150), batch_size=b_size,\n",
    "                                                     class_mode='binary')"
   ]
  },
  {
   "cell_type": "code",
   "execution_count": 17,
   "id": "bf220bc8",
   "metadata": {},
   "outputs": [
    {
     "name": "stdout",
     "output_type": "stream",
     "text": [
      "32\n"
     ]
    }
   ],
   "source": [
    "print(len(train_generator))"
   ]
  },
  {
   "cell_type": "code",
   "execution_count": 18,
   "id": "22476a3a",
   "metadata": {},
   "outputs": [
    {
     "name": "stdout",
     "output_type": "stream",
     "text": [
      "24\n"
     ]
    }
   ],
   "source": [
    "print(len(test_generator))"
   ]
  },
  {
   "cell_type": "code",
   "execution_count": 19,
   "id": "9ca7a6e0",
   "metadata": {},
   "outputs": [],
   "source": [
    "model = Sequential()\n",
    "model.add(Conv2D(32, (3,3), input_shape=(150,150,3)))\n",
    "model.add(Activation('relu'))\n",
    "model.add(MaxPooling2D(pool_size=(2, 2)))\n",
    "\n",
    "model.add(Conv2D(32, (3, 3)))\n",
    "model.add(Activation('relu'))\n",
    "model.add(MaxPooling2D(pool_size=(2, 2)))\n",
    "\n",
    "model.add(Conv2D(64, (3, 3)))\n",
    "model.add(Activation('relu'))\n",
    "model.add(MaxPooling2D(pool_size=(2, 2)))\n",
    "\n",
    "model.add(Flatten())\n",
    "model.add(Dense(64))\n",
    "model.add(Activation('relu'))\n",
    "model.add(Dropout(0.5))\n",
    "model.add(Dense(2))\n",
    "model.add(Activation('softmax'))"
   ]
  },
  {
   "cell_type": "code",
   "execution_count": 20,
   "id": "758fe1de",
   "metadata": {
    "scrolled": true
   },
   "outputs": [
    {
     "name": "stdout",
     "output_type": "stream",
     "text": [
      "Model: \"sequential\"\n",
      "_________________________________________________________________\n",
      "Layer (type)                 Output Shape              Param #   \n",
      "=================================================================\n",
      "conv2d (Conv2D)              (None, 148, 148, 32)      896       \n",
      "_________________________________________________________________\n",
      "activation (Activation)      (None, 148, 148, 32)      0         \n",
      "_________________________________________________________________\n",
      "max_pooling2d (MaxPooling2D) (None, 74, 74, 32)        0         \n",
      "_________________________________________________________________\n",
      "conv2d_1 (Conv2D)            (None, 72, 72, 32)        9248      \n",
      "_________________________________________________________________\n",
      "activation_1 (Activation)    (None, 72, 72, 32)        0         \n",
      "_________________________________________________________________\n",
      "max_pooling2d_1 (MaxPooling2 (None, 36, 36, 32)        0         \n",
      "_________________________________________________________________\n",
      "conv2d_2 (Conv2D)            (None, 34, 34, 64)        18496     \n",
      "_________________________________________________________________\n",
      "activation_2 (Activation)    (None, 34, 34, 64)        0         \n",
      "_________________________________________________________________\n",
      "max_pooling2d_2 (MaxPooling2 (None, 17, 17, 64)        0         \n",
      "_________________________________________________________________\n",
      "flatten (Flatten)            (None, 18496)             0         \n",
      "_________________________________________________________________\n",
      "dense (Dense)                (None, 64)                1183808   \n",
      "_________________________________________________________________\n",
      "activation_3 (Activation)    (None, 64)                0         \n",
      "_________________________________________________________________\n",
      "dropout (Dropout)            (None, 64)                0         \n",
      "_________________________________________________________________\n",
      "dense_1 (Dense)              (None, 2)                 130       \n",
      "_________________________________________________________________\n",
      "activation_4 (Activation)    (None, 2)                 0         \n",
      "=================================================================\n",
      "Total params: 1,212,578\n",
      "Trainable params: 1,212,578\n",
      "Non-trainable params: 0\n",
      "_________________________________________________________________\n"
     ]
    }
   ],
   "source": [
    "model.summary()"
   ]
  },
  {
   "cell_type": "code",
   "execution_count": 22,
   "id": "cf2ae547",
   "metadata": {},
   "outputs": [],
   "source": [
    "model.compile(loss='sparse_categorical_crossentropy', optimizer=optimizers.Adam(learning_rate=0.0002), metrics=['accuracy'])"
   ]
  },
  {
   "cell_type": "code",
   "execution_count": 24,
   "id": "5de72364",
   "metadata": {},
   "outputs": [],
   "source": [
    "steps_train = len(train_generator)\n",
    "steps_test = len(test_generator)"
   ]
  },
  {
   "cell_type": "code",
   "execution_count": 25,
   "id": "ef5448f0",
   "metadata": {},
   "outputs": [
    {
     "name": "stdout",
     "output_type": "stream",
     "text": [
      "Epoch 1/20\n",
      "32/32 [==============================] - 4s 137ms/step - loss: 0.7020 - accuracy: 0.4437 - val_loss: 0.6844 - val_accuracy: 0.6833\n",
      "Epoch 2/20\n",
      "32/32 [==============================] - 3s 87ms/step - loss: 0.6861 - accuracy: 0.5688 - val_loss: 0.6782 - val_accuracy: 0.5667\n",
      "Epoch 3/20\n",
      "32/32 [==============================] - 3s 84ms/step - loss: 0.6948 - accuracy: 0.4688 - val_loss: 0.6767 - val_accuracy: 0.5000\n",
      "Epoch 4/20\n",
      "32/32 [==============================] - 3s 85ms/step - loss: 0.6741 - accuracy: 0.6062 - val_loss: 0.6546 - val_accuracy: 0.6750\n",
      "Epoch 5/20\n",
      "32/32 [==============================] - 3s 83ms/step - loss: 0.6629 - accuracy: 0.6250 - val_loss: 0.6329 - val_accuracy: 0.5833\n",
      "Epoch 6/20\n",
      "32/32 [==============================] - 3s 82ms/step - loss: 0.6250 - accuracy: 0.6812 - val_loss: 0.5483 - val_accuracy: 0.7750\n",
      "Epoch 7/20\n",
      "32/32 [==============================] - 3s 82ms/step - loss: 0.5883 - accuracy: 0.7063 - val_loss: 0.5014 - val_accuracy: 0.8167\n",
      "Epoch 8/20\n",
      "32/32 [==============================] - 3s 84ms/step - loss: 0.5478 - accuracy: 0.7437 - val_loss: 0.4334 - val_accuracy: 0.8833\n",
      "Epoch 9/20\n",
      "32/32 [==============================] - 3s 84ms/step - loss: 0.4907 - accuracy: 0.8000 - val_loss: 0.3477 - val_accuracy: 0.8917\n",
      "Epoch 10/20\n",
      "32/32 [==============================] - 3s 84ms/step - loss: 0.4321 - accuracy: 0.8250 - val_loss: 0.3701 - val_accuracy: 0.8333\n",
      "Epoch 11/20\n",
      "32/32 [==============================] - 3s 83ms/step - loss: 0.3724 - accuracy: 0.8562 - val_loss: 0.3769 - val_accuracy: 0.8083\n",
      "Epoch 12/20\n",
      "32/32 [==============================] - 3s 84ms/step - loss: 0.3105 - accuracy: 0.8875 - val_loss: 0.2377 - val_accuracy: 0.9167\n",
      "Epoch 13/20\n",
      "32/32 [==============================] - 3s 83ms/step - loss: 0.3058 - accuracy: 0.8687 - val_loss: 0.2107 - val_accuracy: 0.9250\n",
      "Epoch 14/20\n",
      "32/32 [==============================] - 3s 83ms/step - loss: 0.3473 - accuracy: 0.8500 - val_loss: 0.3017 - val_accuracy: 0.8583\n",
      "Epoch 15/20\n",
      "32/32 [==============================] - 3s 84ms/step - loss: 0.3055 - accuracy: 0.9000 - val_loss: 0.1889 - val_accuracy: 0.9333\n",
      "Epoch 16/20\n",
      "32/32 [==============================] - 3s 83ms/step - loss: 0.2581 - accuracy: 0.9062 - val_loss: 0.1501 - val_accuracy: 0.9667\n",
      "Epoch 17/20\n",
      "32/32 [==============================] - 3s 83ms/step - loss: 0.2628 - accuracy: 0.9000 - val_loss: 0.1631 - val_accuracy: 0.9333\n",
      "Epoch 18/20\n",
      "32/32 [==============================] - 3s 84ms/step - loss: 0.2645 - accuracy: 0.9000 - val_loss: 0.1281 - val_accuracy: 0.9750\n",
      "Epoch 19/20\n",
      "32/32 [==============================] - 3s 84ms/step - loss: 0.2166 - accuracy: 0.9250 - val_loss: 0.2793 - val_accuracy: 0.8500\n",
      "Epoch 20/20\n",
      "32/32 [==============================] - 3s 84ms/step - loss: 0.1847 - accuracy: 0.9438 - val_loss: 0.1128 - val_accuracy: 0.9750\n"
     ]
    }
   ],
   "source": [
    "history = model.fit(\n",
    "       train_generator,\n",
    "       steps_per_epoch=steps_train,\n",
    "       epochs=20,\n",
    "       validation_data=test_generator,\n",
    "       validation_steps=steps_test )"
   ]
  },
  {
   "cell_type": "code",
   "execution_count": 30,
   "id": "59fd3626",
   "metadata": {},
   "outputs": [
    {
     "data": {
      "image/png": "[encoded data removed]",
      "text/plain": [
       "<Figure size 432x288 with 1 Axes>"
      ]
     },
     "metadata": {
      "needs_background": "light"
     },
     "output_type": "display_data"
    }
   ],
   "source": [
    "acc = history.history['accuracy']\n",
    "val_acc = history.history['val_accuracy']\n",
    "y_vloss = history.history['val_loss']\n",
    "y_loss = history.history['loss']\n",
    "\n",
    "x_len = np.arange(len(y_loss))\n",
    "plt.plot(x_len, acc, marker='.', c='red', label='Trainset_acc')\n",
    "plt.plot(x_len, val_acc, marker='.', c='lightcoral', label='Testset_acc')\n",
    "plt.plot(x_len, y_vloss, marker=',', c='cornflowerblue', label='Testset_loss')\n",
    "plt.plot(x_len, y_loss, marker=',', c='blue', label='Trainset_loss')\n",
    "plt.legend(loc='upper right')\n",
    "plt.grid()\n",
    "plt.xlabel('epoch')\n",
    "plt.ylabel('loss/acc')\n",
    "plt.show()"
   ]
  },
  {
   "cell_type": "markdown",
   "id": "a69ca567",
   "metadata": {},
   "source": [
    "### "
   ]
  }
 ],
 "metadata": {
  "kernelspec": {
   "display_name": "Python 3",
   "language": "python",
   "name": "python3"
  },
  "language_info": {
   "codemirror_mode": {
    "name": "ipython",
    "version": 3
   },
   "file_extension": ".py",
   "mimetype": "text/x-python",
   "name": "python",
   "nbconvert_exporter": "python",
   "pygments_lexer": "ipython3",
   "version": "3.8.11"
  }
 },
 "nbformat": 4,
 "nbformat_minor": 5
}
