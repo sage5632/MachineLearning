{
 "cells": [
  {
   "cell_type": "code",
   "execution_count": 1,
   "id": "7a9977d3",
   "metadata": {},
   "outputs": [],
   "source": [
    "import numpy as np\n",
    "import tensorflow as tf\n",
    "import matplotlib.pyplot as plt\n",
    "\n",
    "# 로이터 뉴스 데이터셋 부러오기\n",
    "from tensorflow.keras.datasets import reuters\n",
    "from tensorflow.keras.models import Sequential\n",
    "from tensorflow.keras.layers import Dense, LSTM, Embedding\n",
    "from tensorflow.keras.preprocessing import sequence\n",
    "from tensorflow.keras.utils import to_categorical"
   ]
  },
  {
   "cell_type": "code",
   "execution_count": 2,
   "id": "a8c857f3",
   "metadata": {},
   "outputs": [
    {
     "name": "stderr",
     "output_type": "stream",
     "text": [
      "C:\\Users\\sage5\\anaconda3\\envs\\tensorflow-env\\lib\\site-packages\\tensorflow\\python\\keras\\datasets\\reuters.py:148: VisibleDeprecationWarning: Creating an ndarray from ragged nested sequences (which is a list-or-tuple of lists-or-tuples-or ndarrays with different lengths or shapes) is deprecated. If you meant to do this, you must specify 'dtype=object' when creating the ndarray\n",
      "  x_train, y_train = np.array(xs[:idx]), np.array(labels[:idx])\n",
      "C:\\Users\\sage5\\anaconda3\\envs\\tensorflow-env\\lib\\site-packages\\tensorflow\\python\\keras\\datasets\\reuters.py:149: VisibleDeprecationWarning: Creating an ndarray from ragged nested sequences (which is a list-or-tuple of lists-or-tuples-or ndarrays with different lengths or shapes) is deprecated. If you meant to do this, you must specify 'dtype=object' when creating the ndarray\n",
      "  x_test, y_test = np.array(xs[idx:]), np.array(labels[idx:])\n"
     ]
    }
   ],
   "source": [
    "(X_train, Y_train), (X_test, Y_test) = reuters.load_data(num_words=1000, test_split=0.2)"
   ]
  },
  {
   "cell_type": "code",
   "execution_count": 3,
   "id": "92c37aff",
   "metadata": {},
   "outputs": [
    {
     "name": "stdout",
     "output_type": "stream",
     "text": [
      "46 카테고리\n",
      "8982 학습용 뉴스 기사\n",
      "2246 테스트용 뉴스 기사\n",
      "[1, 2, 2, 8, 43, 10, 447, 5, 25, 207, 270, 5, 2, 111, 16, 369, 186, 90, 67, 7, 89, 5, 19, 102, 6, 19, 124, 15, 90, 67, 84, 22, 482, 26, 7, 48, 4, 49, 8, 864, 39, 209, 154, 6, 151, 6, 83, 11, 15, 22, 155, 11, 15, 7, 48, 9, 2, 2, 504, 6, 258, 6, 272, 11, 15, 22, 134, 44, 11, 15, 16, 8, 197, 2, 90, 67, 52, 29, 209, 30, 32, 132, 6, 109, 15, 17, 12]\n"
     ]
    }
   ],
   "source": [
    "category = np.max(Y_train) + 1\n",
    "print(category, '카테고리')\n",
    "print(len(X_train), '학습용 뉴스 기사')\n",
    "print(len(X_test), '테스트용 뉴스 기사')\n",
    "print(X_train[0])"
   ]
  },
  {
   "cell_type": "code",
   "execution_count": 4,
   "id": "b66ef689",
   "metadata": {},
   "outputs": [],
   "source": [
    "x_train = sequence.pad_sequences(X_train, maxlen=100)\n",
    "x_test = sequence.pad_sequences(X_test, maxlen=100)\n",
    "y_train = to_categorical(Y_train)\n",
    "y_test = to_categorical(Y_test)"
   ]
  },
  {
   "cell_type": "code",
   "execution_count": 5,
   "id": "08850b24",
   "metadata": {},
   "outputs": [
    {
     "name": "stdout",
     "output_type": "stream",
     "text": [
      "3\n"
     ]
    }
   ],
   "source": [
    "print(Y_train[0])"
   ]
  },
  {
   "cell_type": "code",
   "execution_count": 7,
   "id": "22773d21",
   "metadata": {},
   "outputs": [],
   "source": [
    "model = Sequential()\n",
    "model.add(Embedding(1000, 100))\n",
    "model.add(LSTM(100, activation='tanh'))\n",
    "model.add(Dense(46, activation='softmax'))"
   ]
  },
  {
   "cell_type": "code",
   "execution_count": 8,
   "id": "390b8f74",
   "metadata": {},
   "outputs": [
    {
     "name": "stdout",
     "output_type": "stream",
     "text": [
      "Model: \"sequential_1\"\n",
      "_________________________________________________________________\n",
      "Layer (type)                 Output Shape              Param #   \n",
      "=================================================================\n",
      "embedding_1 (Embedding)      (None, None, 100)         100000    \n",
      "_________________________________________________________________\n",
      "lstm_1 (LSTM)                (None, 100)               80400     \n",
      "_________________________________________________________________\n",
      "dense (Dense)                (None, 46)                4646      \n",
      "=================================================================\n",
      "Total params: 185,046\n",
      "Trainable params: 185,046\n",
      "Non-trainable params: 0\n",
      "_________________________________________________________________\n"
     ]
    }
   ],
   "source": [
    "model.summary()"
   ]
  },
  {
   "cell_type": "code",
   "execution_count": 9,
   "id": "3156a684",
   "metadata": {},
   "outputs": [],
   "source": [
    "model.compile(loss='categorical_crossentropy', optimizer='adam', metrics=['accuracy'])"
   ]
  },
  {
   "cell_type": "code",
   "execution_count": 10,
   "id": "b71e8bee",
   "metadata": {},
   "outputs": [
    {
     "name": "stdout",
     "output_type": "stream",
     "text": [
      "Epoch 1/20\n",
      "90/90 [==============================] - 12s 128ms/step - loss: 2.5867 - accuracy: 0.3461 - val_loss: 2.4156 - val_accuracy: 0.3620\n",
      "Epoch 2/20\n",
      "90/90 [==============================] - 10s 112ms/step - loss: 2.1544 - accuracy: 0.4466 - val_loss: 1.9706 - val_accuracy: 0.5045\n",
      "Epoch 3/20\n",
      "90/90 [==============================] - 10s 112ms/step - loss: 1.8486 - accuracy: 0.5225 - val_loss: 1.8053 - val_accuracy: 0.5365\n",
      "Epoch 4/20\n",
      "90/90 [==============================] - 10s 108ms/step - loss: 1.7187 - accuracy: 0.5554 - val_loss: 1.7161 - val_accuracy: 0.5539\n",
      "Epoch 5/20\n",
      "90/90 [==============================] - 10s 111ms/step - loss: 1.6470 - accuracy: 0.5719 - val_loss: 1.6707 - val_accuracy: 0.5606\n",
      "Epoch 6/20\n",
      "90/90 [==============================] - 10s 108ms/step - loss: 1.5942 - accuracy: 0.5898 - val_loss: 1.5936 - val_accuracy: 0.6024\n",
      "Epoch 7/20\n",
      "90/90 [==============================] - 10s 107ms/step - loss: 1.5835 - accuracy: 0.5951 - val_loss: 1.6421 - val_accuracy: 0.5922\n",
      "Epoch 8/20\n",
      "90/90 [==============================] - 10s 106ms/step - loss: 1.5258 - accuracy: 0.6054 - val_loss: 1.5449 - val_accuracy: 0.6046\n",
      "Epoch 9/20\n",
      "90/90 [==============================] - 10s 107ms/step - loss: 1.4156 - accuracy: 0.6427 - val_loss: 1.4589 - val_accuracy: 0.6389\n",
      "Epoch 10/20\n",
      "90/90 [==============================] - 10s 106ms/step - loss: 1.3071 - accuracy: 0.6684 - val_loss: 1.3792 - val_accuracy: 0.6541\n",
      "Epoch 11/20\n",
      "90/90 [==============================] - 10s 106ms/step - loss: 1.2116 - accuracy: 0.6919 - val_loss: 1.3473 - val_accuracy: 0.6589\n",
      "Epoch 12/20\n",
      "90/90 [==============================] - 9s 105ms/step - loss: 1.1445 - accuracy: 0.7116 - val_loss: 1.3075 - val_accuracy: 0.6661\n",
      "Epoch 13/20\n",
      "90/90 [==============================] - 10s 111ms/step - loss: 1.0804 - accuracy: 0.7266 - val_loss: 1.2930 - val_accuracy: 0.6803\n",
      "Epoch 14/20\n",
      "90/90 [==============================] - 10s 109ms/step - loss: 1.0369 - accuracy: 0.7390 - val_loss: 1.2552 - val_accuracy: 0.6928\n",
      "Epoch 15/20\n",
      "90/90 [==============================] - 10s 108ms/step - loss: 0.9824 - accuracy: 0.7523 - val_loss: 1.2499 - val_accuracy: 0.6874\n",
      "Epoch 16/20\n",
      "90/90 [==============================] - 10s 115ms/step - loss: 0.9433 - accuracy: 0.7614 - val_loss: 1.2281 - val_accuracy: 0.6932\n",
      "Epoch 17/20\n",
      "90/90 [==============================] - 10s 113ms/step - loss: 0.9026 - accuracy: 0.7733 - val_loss: 1.2161 - val_accuracy: 0.6999\n",
      "Epoch 18/20\n",
      "90/90 [==============================] - 10s 107ms/step - loss: 0.8693 - accuracy: 0.7818 - val_loss: 1.2299 - val_accuracy: 0.6968\n",
      "Epoch 19/20\n",
      "90/90 [==============================] - 10s 116ms/step - loss: 0.8746 - accuracy: 0.7850 - val_loss: 1.2475 - val_accuracy: 0.6995\n",
      "Epoch 20/20\n",
      "90/90 [==============================] - 10s 114ms/step - loss: 0.8102 - accuracy: 0.7987 - val_loss: 1.2318 - val_accuracy: 0.7021\n"
     ]
    }
   ],
   "source": [
    "history = model.fit(x_train, y_train, batch_size=100, epochs=20, validation_data=(x_test, y_test))"
   ]
  },
  {
   "cell_type": "code",
   "execution_count": 12,
   "id": "5e8a5124",
   "metadata": {},
   "outputs": [
    {
     "name": "stdout",
     "output_type": "stream",
     "text": [
      "71/71 [==============================] - 1s 20ms/step - loss: 1.2318 - accuracy: 0.7021\n",
      "\n",
      " Test Accuracy:L 0.7021\n"
     ]
    }
   ],
   "source": [
    "print(\"\\n Test Accuracy:L %.4f\" % (model.evaluate(x_test, y_test)[1]))"
   ]
  },
  {
   "cell_type": "code",
   "execution_count": 14,
   "id": "8c18c2d3",
   "metadata": {},
   "outputs": [],
   "source": [
    "y_vloss = history.history['val_loss']\n",
    "y_loss = history.history['loss']"
   ]
  },
  {
   "cell_type": "code",
   "execution_count": 18,
   "id": "653e832c",
   "metadata": {},
   "outputs": [
    {
     "data": {
      "image/png": "[encoded data removed]",
      "text/plain": [
       "<Figure size 432x288 with 1 Axes>"
      ]
     },
     "metadata": {
      "needs_background": "light"
     },
     "output_type": "display_data"
    }
   ],
   "source": [
    "x_len = np.arange(len(y_loss))\n",
    "plt.plot(x_len, y_vloss, marker='.', c='red', label='Testest_loss')\n",
    "plt.plot(x_len, y_loss, marker='.', c='blue', label='Trainset_loss')\n",
    "plt.legend(loc='upper right')\n",
    "plt.grid()\n",
    "plt.xlabel('epoch')\n",
    "plt.ylabel('loss')\n",
    "plt.show()"
   ]
  },
  {
   "cell_type": "code",
   "execution_count": null,
   "id": "09e46c0f",
   "metadata": {},
   "outputs": [],
   "source": []
  }
 ],
 "metadata": {
  "kernelspec": {
   "display_name": "Python 3",
   "language": "python",
   "name": "python3"
  },
  "language_info": {
   "codemirror_mode": {
    "name": "ipython",
    "version": 3
   },
   "file_extension": ".py",
   "mimetype": "text/x-python",
   "name": "python",
   "nbconvert_exporter": "python",
   "pygments_lexer": "ipython3",
   "version": "3.8.11"
  }
 },
 "nbformat": 4,
 "nbformat_minor": 5
}
