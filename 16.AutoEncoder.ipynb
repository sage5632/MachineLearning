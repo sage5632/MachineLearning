{
 "cells": [
  {
   "cell_type": "code",
   "execution_count": 2,
   "id": "ad886be2",
   "metadata": {},
   "outputs": [],
   "source": [
    "from tensorflow.keras.datasets import mnist\n",
    "from tensorflow.keras.models import Sequential, Model\n",
    "from tensorflow.keras.layers import Input, Dense, Conv2D, MaxPooling2D, UpSampling2D, Flatten, Reshape\n",
    "import matplotlib.pyplot as plt\n",
    "import numpy as np"
   ]
  },
  {
   "cell_type": "code",
   "execution_count": 4,
   "id": "741c5345",
   "metadata": {},
   "outputs": [
    {
     "name": "stdout",
     "output_type": "stream",
     "text": [
      "Downloading data from https://storage.googleapis.com/tensorflow/tf-keras-datasets/mnist.npz\n",
      "11493376/11490434 [==============================] - 0s 0us/step\n"
     ]
    }
   ],
   "source": [
    "(X_train, _), (X_test, _) = mnist.load_data()\n",
    "X_train = X_train.reshape(X_train.shape[0], 28, 28, 1).astype('float32') / 255\n",
    "X_test = X_test.reshape(X_test.shape[0], 28, 28, 1).astype('float32') / 255"
   ]
  },
  {
   "cell_type": "code",
   "execution_count": 8,
   "id": "5a51e5b0",
   "metadata": {},
   "outputs": [],
   "source": [
    "autoencoder = Sequential()\n",
    "# Encoding\n",
    "autoencoder.add(Conv2D(16, kernel_size=3, padding='same', input_shape=(28,28,1), activation='relu'))\n",
    "autoencoder.add(MaxPooling2D(pool_size=2, padding='same'))\n",
    "autoencoder.add(Conv2D(8, kernel_size=3, activation='relu',padding='same'))\n",
    "autoencoder.add(MaxPooling2D(pool_size=2, padding='same'))\n",
    "autoencoder.add(Conv2D(8, kernel_size=3, strides=2, padding='same', activation='relu'))\n",
    "\n",
    "# Decoding\n",
    "autoencoder.add(Conv2D(8, kernel_size=3, padding='same', activation='relu'))\n",
    "autoencoder.add(UpSampling2D())\n",
    "autoencoder.add(Conv2D(8, kernel_size=3, padding='same', activation='relu'))\n",
    "autoencoder.add(UpSampling2D())\n",
    "autoencoder.add(Conv2D(16, kernel_size=3, activation='relu'))\n",
    "autoencoder.add(UpSampling2D())\n",
    "autoencoder.add(Conv2D(1, kernel_size=3, padding='same', activation='sigmoid'))"
   ]
  },
  {
   "cell_type": "code",
   "execution_count": 9,
   "id": "23e79aff",
   "metadata": {},
   "outputs": [
    {
     "name": "stdout",
     "output_type": "stream",
     "text": [
      "Model: \"sequential_3\"\n",
      "_________________________________________________________________\n",
      "Layer (type)                 Output Shape              Param #   \n",
      "=================================================================\n",
      "conv2d_18 (Conv2D)           (None, 28, 28, 16)        160       \n",
      "_________________________________________________________________\n",
      "max_pooling2d_6 (MaxPooling2 (None, 14, 14, 16)        0         \n",
      "_________________________________________________________________\n",
      "conv2d_19 (Conv2D)           (None, 14, 14, 8)         1160      \n",
      "_________________________________________________________________\n",
      "max_pooling2d_7 (MaxPooling2 (None, 7, 7, 8)           0         \n",
      "_________________________________________________________________\n",
      "conv2d_20 (Conv2D)           (None, 4, 4, 8)           584       \n",
      "_________________________________________________________________\n",
      "conv2d_21 (Conv2D)           (None, 4, 4, 8)           584       \n",
      "_________________________________________________________________\n",
      "up_sampling2d_7 (UpSampling2 (None, 8, 8, 8)           0         \n",
      "_________________________________________________________________\n",
      "conv2d_22 (Conv2D)           (None, 8, 8, 8)           584       \n",
      "_________________________________________________________________\n",
      "up_sampling2d_8 (UpSampling2 (None, 16, 16, 8)         0         \n",
      "_________________________________________________________________\n",
      "conv2d_23 (Conv2D)           (None, 14, 14, 16)        1168      \n",
      "_________________________________________________________________\n",
      "up_sampling2d_9 (UpSampling2 (None, 28, 28, 16)        0         \n",
      "_________________________________________________________________\n",
      "conv2d_24 (Conv2D)           (None, 28, 28, 1)         145       \n",
      "=================================================================\n",
      "Total params: 4,385\n",
      "Trainable params: 4,385\n",
      "Non-trainable params: 0\n",
      "_________________________________________________________________\n"
     ]
    }
   ],
   "source": [
    "autoencoder.summary()"
   ]
  },
  {
   "cell_type": "code",
   "execution_count": 10,
   "id": "2b065237",
   "metadata": {},
   "outputs": [],
   "source": [
    "autoencoder.compile(optimizer='adam', loss='binary_crossentropy')"
   ]
  },
  {
   "cell_type": "code",
   "execution_count": 12,
   "id": "7d2965f0",
   "metadata": {},
   "outputs": [
    {
     "name": "stdout",
     "output_type": "stream",
     "text": [
      "Epoch 1/50\n",
      "469/469 [==============================] - 40s 85ms/step - loss: 0.2056 - val_loss: 0.1334\n",
      "Epoch 2/50\n",
      "469/469 [==============================] - 37s 80ms/step - loss: 0.1230 - val_loss: 0.1144\n",
      "Epoch 3/50\n",
      "469/469 [==============================] - 37s 79ms/step - loss: 0.1120 - val_loss: 0.1079\n",
      "Epoch 4/50\n",
      "469/469 [==============================] - 37s 80ms/step - loss: 0.1067 - val_loss: 0.1034\n",
      "Epoch 5/50\n",
      "469/469 [==============================] - 38s 81ms/step - loss: 0.1029 - val_loss: 0.1001\n",
      "Epoch 6/50\n",
      "469/469 [==============================] - 39s 83ms/step - loss: 0.1001 - val_loss: 0.0976\n",
      "Epoch 7/50\n",
      "469/469 [==============================] - 38s 82ms/step - loss: 0.0978 - val_loss: 0.0956\n",
      "Epoch 8/50\n",
      "469/469 [==============================] - 39s 82ms/step - loss: 0.0961 - val_loss: 0.0941\n",
      "Epoch 9/50\n",
      "469/469 [==============================] - 42s 90ms/step - loss: 0.0948 - val_loss: 0.0931\n",
      "Epoch 10/50\n",
      "469/469 [==============================] - 38s 80ms/step - loss: 0.0936 - val_loss: 0.0920\n",
      "Epoch 11/50\n",
      "469/469 [==============================] - 37s 79ms/step - loss: 0.0927 - val_loss: 0.0917\n",
      "Epoch 12/50\n",
      "469/469 [==============================] - 37s 79ms/step - loss: 0.0919 - val_loss: 0.0905\n",
      "Epoch 13/50\n",
      "469/469 [==============================] - 39s 83ms/step - loss: 0.0911 - val_loss: 0.0896\n",
      "Epoch 14/50\n",
      "469/469 [==============================] - 43s 93ms/step - loss: 0.0905 - val_loss: 0.0891\n",
      "Epoch 15/50\n",
      "469/469 [==============================] - 43s 92ms/step - loss: 0.0899 - val_loss: 0.0887\n",
      "Epoch 16/50\n",
      "469/469 [==============================] - 41s 88ms/step - loss: 0.0894 - val_loss: 0.0879\n",
      "Epoch 17/50\n",
      "469/469 [==============================] - 37s 80ms/step - loss: 0.0889 - val_loss: 0.0883\n",
      "Epoch 18/50\n",
      "469/469 [==============================] - 37s 79ms/step - loss: 0.0885 - val_loss: 0.0870\n",
      "Epoch 19/50\n",
      "469/469 [==============================] - 37s 79ms/step - loss: 0.0881 - val_loss: 0.0869\n",
      "Epoch 20/50\n",
      "469/469 [==============================] - 36s 78ms/step - loss: 0.0878 - val_loss: 0.0866\n",
      "Epoch 21/50\n",
      "469/469 [==============================] - 36s 78ms/step - loss: 0.0874 - val_loss: 0.0862\n",
      "Epoch 22/50\n",
      "469/469 [==============================] - 36s 78ms/step - loss: 0.0871 - val_loss: 0.0861\n",
      "Epoch 23/50\n",
      "469/469 [==============================] - 37s 79ms/step - loss: 0.0869 - val_loss: 0.0855\n",
      "Epoch 24/50\n",
      "469/469 [==============================] - 37s 79ms/step - loss: 0.0866 - val_loss: 0.0854\n",
      "Epoch 25/50\n",
      "469/469 [==============================] - 37s 79ms/step - loss: 0.0863 - val_loss: 0.0852\n",
      "Epoch 26/50\n",
      "469/469 [==============================] - 37s 79ms/step - loss: 0.0861 - val_loss: 0.0850\n",
      "Epoch 27/50\n",
      "469/469 [==============================] - 38s 81ms/step - loss: 0.0859 - val_loss: 0.0850\n",
      "Epoch 28/50\n",
      "469/469 [==============================] - 37s 80ms/step - loss: 0.0857 - val_loss: 0.0845\n",
      "Epoch 29/50\n",
      "469/469 [==============================] - 37s 80ms/step - loss: 0.0856 - val_loss: 0.0843\n",
      "Epoch 30/50\n",
      "469/469 [==============================] - 38s 81ms/step - loss: 0.0853 - val_loss: 0.0852\n",
      "Epoch 31/50\n",
      "469/469 [==============================] - 38s 82ms/step - loss: 0.0851 - val_loss: 0.0839\n",
      "Epoch 32/50\n",
      "469/469 [==============================] - 38s 82ms/step - loss: 0.0850 - val_loss: 0.0841\n",
      "Epoch 33/50\n",
      "469/469 [==============================] - 39s 84ms/step - loss: 0.0848 - val_loss: 0.0835\n",
      "Epoch 34/50\n",
      "469/469 [==============================] - 41s 87ms/step - loss: 0.0846 - val_loss: 0.0834\n",
      "Epoch 35/50\n",
      "469/469 [==============================] - 41s 86ms/step - loss: 0.0845 - val_loss: 0.0837\n",
      "Epoch 36/50\n",
      "469/469 [==============================] - 39s 83ms/step - loss: 0.0843 - val_loss: 0.0834\n",
      "Epoch 37/50\n",
      "469/469 [==============================] - 36s 77ms/step - loss: 0.0842 - val_loss: 0.0833\n",
      "Epoch 38/50\n",
      "469/469 [==============================] - 37s 79ms/step - loss: 0.0840 - val_loss: 0.0830\n",
      "Epoch 39/50\n",
      "469/469 [==============================] - 38s 80ms/step - loss: 0.0839 - val_loss: 0.0827\n",
      "Epoch 40/50\n",
      "469/469 [==============================] - 38s 81ms/step - loss: 0.0837 - val_loss: 0.0827\n",
      "Epoch 41/50\n",
      "469/469 [==============================] - 39s 82ms/step - loss: 0.0837 - val_loss: 0.0824\n",
      "Epoch 42/50\n",
      "469/469 [==============================] - 40s 85ms/step - loss: 0.0835 - val_loss: 0.0825\n",
      "Epoch 43/50\n",
      "469/469 [==============================] - 39s 83ms/step - loss: 0.0834 - val_loss: 0.0822\n",
      "Epoch 44/50\n",
      "469/469 [==============================] - 37s 80ms/step - loss: 0.0832 - val_loss: 0.0836\n",
      "Epoch 45/50\n",
      "469/469 [==============================] - 38s 81ms/step - loss: 0.0832 - val_loss: 0.0820\n",
      "Epoch 46/50\n",
      "469/469 [==============================] - 43s 91ms/step - loss: 0.0830 - val_loss: 0.0821\n",
      "Epoch 47/50\n",
      "469/469 [==============================] - 40s 85ms/step - loss: 0.0830 - val_loss: 0.0817\n",
      "Epoch 48/50\n",
      "469/469 [==============================] - 39s 83ms/step - loss: 0.0828 - val_loss: 0.0817\n",
      "Epoch 49/50\n",
      "469/469 [==============================] - 39s 84ms/step - loss: 0.0827 - val_loss: 0.0817\n",
      "Epoch 50/50\n",
      "469/469 [==============================] - 39s 84ms/step - loss: 0.0826 - val_loss: 0.0815\n"
     ]
    },
    {
     "data": {
      "text/plain": [
       "<tensorflow.python.keras.callbacks.History at 0x22d25bb9ac0>"
      ]
     },
     "execution_count": 12,
     "metadata": {},
     "output_type": "execute_result"
    }
   ],
   "source": [
    "autoencoder.fit(X_train, X_train, epochs=50, batch_size=128, validation_data=(X_test, X_test))"
   ]
  },
  {
   "cell_type": "code",
   "execution_count": 16,
   "id": "fa2e24b1",
   "metadata": {},
   "outputs": [
    {
     "data": {
      "image/png": "[encoded data removed]",
      "text/plain": [
       "<Figure size 504x144 with 10 Axes>"
      ]
     },
     "metadata": {
      "needs_background": "light"
     },
     "output_type": "display_data"
    }
   ],
   "source": [
    "random_test = np.random.randint(X_test.shape[0], size=5)  #테스트할 이미지를 랜덤하게 불러옵니다.\n",
    "ae_imgs = autoencoder.predict(X_test)  #앞서 만든 오토인코더 모델에 집어 넣습니다.\n",
    "\n",
    "plt.figure(figsize=(7, 2))  #출력될 이미지의 크기를 정합니다.\n",
    "\n",
    "for i, image_idx in enumerate(random_test):    #랜덤하게 뽑은 이미지를 차례로 나열합니다.\n",
    "    ax = plt.subplot(2, 7, i + 1) \n",
    "    plt.imshow(X_test[image_idx].reshape(28, 28))  #테스트할 이미지를 먼저 그대로 보여줍니다.\n",
    "    ax.axis('off')\n",
    "    ax = plt.subplot(2, 7, 7 + i +1)\n",
    "    plt.imshow(ae_imgs[image_idx].reshape(28, 28))  #오토인코딩 결과를 다음열에 출력합니다.\n",
    "    ax.axis('off')\n",
    "plt.show()"
   ]
  },
  {
   "cell_type": "code",
   "execution_count": null,
   "id": "f58f724d",
   "metadata": {},
   "outputs": [],
   "source": []
  }
 ],
 "metadata": {
  "kernelspec": {
   "display_name": "Python 3",
   "language": "python",
   "name": "python3"
  },
  "language_info": {
   "codemirror_mode": {
    "name": "ipython",
    "version": 3
   },
   "file_extension": ".py",
   "mimetype": "text/x-python",
   "name": "python",
   "nbconvert_exporter": "python",
   "pygments_lexer": "ipython3",
   "version": "3.8.11"
  }
 },
 "nbformat": 4,
 "nbformat_minor": 5
}
