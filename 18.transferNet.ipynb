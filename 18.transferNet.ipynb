{
 "cells": [
  {
   "cell_type": "code",
   "execution_count": 13,
   "id": "3a169334",
   "metadata": {},
   "outputs": [],
   "source": [
    "import tensorflow as tf\n",
    "import numpy as np\n",
    "import matplotlib.pyplot as plt\n",
    "\n",
    "from tensorflow.keras.models import Sequential\n",
    "from tensorflow.keras.preprocessing.image import ImageDataGenerator\n",
    "from tensorflow.keras import Input, models, layers, optimizers, metrics\n",
    "from tensorflow.keras.layers import Dense, Flatten\n",
    "from tensorflow.keras.applications import VGG16"
   ]
  },
  {
   "cell_type": "code",
   "execution_count": 3,
   "id": "c224ccd1",
   "metadata": {},
   "outputs": [
    {
     "name": "stdout",
     "output_type": "stream",
     "text": [
      "Found 160 images belonging to 2 classes.\n",
      "Found 120 images belonging to 2 classes.\n"
     ]
    }
   ],
   "source": [
    "b_size = 5\n",
    "train_datagen = ImageDataGenerator(rescale=1./255, horizontal_flip=True, #수평 대칭 이미지를 50% 확률로 만듬\n",
    "                                   width_shift_range=0.1, #width_shift_range 전체 크기의 10% 범위에서 좌우로이동\n",
    "                                  height_shift_range=0.1, fill_mode='nearest') \n",
    "train_generator = train_datagen.flow_from_directory('deeplearning/run_project/train', target_size=(150,150), batch_size=b_size,\n",
    "                                                     class_mode='binary')\n",
    "test_datagen = ImageDataGenerator(rescale=1./255)\n",
    "test_generator = test_datagen.flow_from_directory('deeplearning/run_project/test', target_size=(150,150), batch_size=b_size,\n",
    "                                                     class_mode='binary')"
   ]
  },
  {
   "cell_type": "code",
   "execution_count": 5,
   "id": "ea758e8a",
   "metadata": {},
   "outputs": [
    {
     "name": "stdout",
     "output_type": "stream",
     "text": [
      "Model: \"vgg16\"\n",
      "_________________________________________________________________\n",
      "Layer (type)                 Output Shape              Param #   \n",
      "=================================================================\n",
      "input_2 (InputLayer)         [(None, 150, 150, 3)]     0         \n",
      "_________________________________________________________________\n",
      "block1_conv1 (Conv2D)        (None, 150, 150, 64)      1792      \n",
      "_________________________________________________________________\n",
      "block1_conv2 (Conv2D)        (None, 150, 150, 64)      36928     \n",
      "_________________________________________________________________\n",
      "block1_pool (MaxPooling2D)   (None, 75, 75, 64)        0         \n",
      "_________________________________________________________________\n",
      "block2_conv1 (Conv2D)        (None, 75, 75, 128)       73856     \n",
      "_________________________________________________________________\n",
      "block2_conv2 (Conv2D)        (None, 75, 75, 128)       147584    \n",
      "_________________________________________________________________\n",
      "block2_pool (MaxPooling2D)   (None, 37, 37, 128)       0         \n",
      "_________________________________________________________________\n",
      "block3_conv1 (Conv2D)        (None, 37, 37, 256)       295168    \n",
      "_________________________________________________________________\n",
      "block3_conv2 (Conv2D)        (None, 37, 37, 256)       590080    \n",
      "_________________________________________________________________\n",
      "block3_conv3 (Conv2D)        (None, 37, 37, 256)       590080    \n",
      "_________________________________________________________________\n",
      "block3_pool (MaxPooling2D)   (None, 18, 18, 256)       0         \n",
      "_________________________________________________________________\n",
      "block4_conv1 (Conv2D)        (None, 18, 18, 512)       1180160   \n",
      "_________________________________________________________________\n",
      "block4_conv2 (Conv2D)        (None, 18, 18, 512)       2359808   \n",
      "_________________________________________________________________\n",
      "block4_conv3 (Conv2D)        (None, 18, 18, 512)       2359808   \n",
      "_________________________________________________________________\n",
      "block4_pool (MaxPooling2D)   (None, 9, 9, 512)         0         \n",
      "_________________________________________________________________\n",
      "block5_conv1 (Conv2D)        (None, 9, 9, 512)         2359808   \n",
      "_________________________________________________________________\n",
      "block5_conv2 (Conv2D)        (None, 9, 9, 512)         2359808   \n",
      "_________________________________________________________________\n",
      "block5_conv3 (Conv2D)        (None, 9, 9, 512)         2359808   \n",
      "_________________________________________________________________\n",
      "block5_pool (MaxPooling2D)   (None, 4, 4, 512)         0         \n",
      "=================================================================\n",
      "Total params: 14,714,688\n",
      "Trainable params: 0\n",
      "Non-trainable params: 14,714,688\n",
      "_________________________________________________________________\n"
     ]
    }
   ],
   "source": [
    "transfer_model = VGG16(weights='imagenet', include_top=False, input_shape=(150,150,3)) # include_top=False Fully Connected 를 뻈다\n",
    "transfer_model.trainable=False\n",
    "transfer_model.summary()"
   ]
  },
  {
   "cell_type": "code",
   "execution_count": 8,
   "id": "bfe2092e",
   "metadata": {},
   "outputs": [],
   "source": [
    "finetune_model = Sequential()\n",
    "finetune_model.add(transfer_model)\n",
    "finetune_model.add(Flatten())\n",
    "finetune_model.add(Dense(64, activation='relu'))\n",
    "finetune_model.add(Dense(2, activation='softmax'))"
   ]
  },
  {
   "cell_type": "code",
   "execution_count": 10,
   "id": "654b8848",
   "metadata": {},
   "outputs": [],
   "source": [
    "finetune_model.compile(loss='sparse_categorical_crossentropy', optimizer=optimizers.Adam(learning_rate=0.0002), metrics=['accuracy'])\n",
    "steps_train = len(train_generator)\n",
    "steps_test = len(test_generator)"
   ]
  },
  {
   "cell_type": "code",
   "execution_count": 11,
   "id": "7065d842",
   "metadata": {},
   "outputs": [
    {
     "name": "stdout",
     "output_type": "stream",
     "text": [
      "Epoch 1/20\n",
      "32/32 [==============================] - 15s 468ms/step - loss: 0.8157 - accuracy: 0.5625 - val_loss: 0.5497 - val_accuracy: 0.6500\n",
      "Epoch 2/20\n",
      "32/32 [==============================] - 15s 456ms/step - loss: 0.4235 - accuracy: 0.8625 - val_loss: 0.3638 - val_accuracy: 0.9000\n",
      "Epoch 3/20\n",
      "32/32 [==============================] - 15s 453ms/step - loss: 0.3039 - accuracy: 0.9250 - val_loss: 0.3879 - val_accuracy: 0.8000\n",
      "Epoch 4/20\n",
      "32/32 [==============================] - 14s 453ms/step - loss: 0.2533 - accuracy: 0.9000 - val_loss: 0.2491 - val_accuracy: 0.9417\n",
      "Epoch 5/20\n",
      "32/32 [==============================] - 15s 470ms/step - loss: 0.2122 - accuracy: 0.9375 - val_loss: 0.2681 - val_accuracy: 0.9000\n",
      "Epoch 6/20\n",
      "32/32 [==============================] - 15s 471ms/step - loss: 0.1826 - accuracy: 0.9688 - val_loss: 0.1911 - val_accuracy: 0.9333\n",
      "Epoch 7/20\n",
      "32/32 [==============================] - 15s 459ms/step - loss: 0.1564 - accuracy: 0.9688 - val_loss: 0.1724 - val_accuracy: 0.9583\n",
      "Epoch 8/20\n",
      "32/32 [==============================] - 14s 452ms/step - loss: 0.1422 - accuracy: 0.9688 - val_loss: 0.1758 - val_accuracy: 0.9333\n",
      "Epoch 9/20\n",
      "32/32 [==============================] - 15s 453ms/step - loss: 0.1270 - accuracy: 0.9750 - val_loss: 0.1520 - val_accuracy: 0.9333\n",
      "Epoch 10/20\n",
      "32/32 [==============================] - 15s 463ms/step - loss: 0.1272 - accuracy: 0.9812 - val_loss: 0.1384 - val_accuracy: 0.9667\n",
      "Epoch 11/20\n",
      "32/32 [==============================] - 15s 459ms/step - loss: 0.1028 - accuracy: 0.9812 - val_loss: 0.1710 - val_accuracy: 0.9167\n",
      "Epoch 12/20\n",
      "32/32 [==============================] - 15s 453ms/step - loss: 0.1145 - accuracy: 0.9625 - val_loss: 0.1242 - val_accuracy: 0.9667\n",
      "Epoch 13/20\n",
      "32/32 [==============================] - 15s 454ms/step - loss: 0.1011 - accuracy: 0.9750 - val_loss: 0.1197 - val_accuracy: 0.9667\n",
      "Epoch 14/20\n",
      "32/32 [==============================] - 15s 460ms/step - loss: 0.1299 - accuracy: 0.9563 - val_loss: 0.2044 - val_accuracy: 0.9167\n",
      "Epoch 15/20\n",
      "32/32 [==============================] - 15s 454ms/step - loss: 0.1056 - accuracy: 0.9500 - val_loss: 0.1099 - val_accuracy: 0.9583\n",
      "Epoch 16/20\n",
      "32/32 [==============================] - 15s 462ms/step - loss: 0.0807 - accuracy: 0.9625 - val_loss: 0.1009 - val_accuracy: 0.9667\n",
      "Epoch 17/20\n",
      "32/32 [==============================] - 15s 461ms/step - loss: 0.0785 - accuracy: 0.9875 - val_loss: 0.1075 - val_accuracy: 0.9583\n",
      "Epoch 18/20\n",
      "32/32 [==============================] - 15s 469ms/step - loss: 0.0781 - accuracy: 0.9750 - val_loss: 0.1397 - val_accuracy: 0.9417\n",
      "Epoch 19/20\n",
      "32/32 [==============================] - 15s 463ms/step - loss: 0.0687 - accuracy: 0.9875 - val_loss: 0.0955 - val_accuracy: 0.9667\n",
      "Epoch 20/20\n",
      "32/32 [==============================] - 15s 454ms/step - loss: 0.0905 - accuracy: 0.9688 - val_loss: 0.0948 - val_accuracy: 0.9667\n"
     ]
    }
   ],
   "source": [
    "history = finetune_model.fit(\n",
    "       train_generator,\n",
    "       steps_per_epoch=steps_train,\n",
    "       epochs=20,\n",
    "       validation_data=test_generator,\n",
    "       validation_steps=steps_test )"
   ]
  },
  {
   "cell_type": "code",
   "execution_count": 14,
   "id": "5511db59",
   "metadata": {},
   "outputs": [
    {
     "data": {
      "image/png": "[encoded data removed]",
      "text/plain": [
       "<Figure size 432x288 with 1 Axes>"
      ]
     },
     "metadata": {
      "needs_background": "light"
     },
     "output_type": "display_data"
    }
   ],
   "source": [
    "acc = history.history['accuracy']\n",
    "val_acc = history.history['val_accuracy']\n",
    "y_vloss = history.history['val_loss']\n",
    "y_loss = history.history['loss']\n",
    "\n",
    "x_len = np.arange(len(y_loss))\n",
    "plt.plot(x_len, acc, marker='.', c='red', label='Trainset_acc')\n",
    "plt.plot(x_len, val_acc, marker='.', c='lightcoral', label='Testset_acc')\n",
    "plt.plot(x_len, y_vloss, marker=',', c='cornflowerblue', label='Testset_loss')\n",
    "plt.plot(x_len, y_loss, marker=',', c='blue', label='Trainset_loss')\n",
    "plt.legend(loc='upper right')\n",
    "plt.grid()\n",
    "plt.xlabel('epoch')\n",
    "plt.ylabel('loss/acc')\n",
    "plt.show()"
   ]
  },
  {
   "cell_type": "code",
   "execution_count": null,
   "id": "cbaaf38a",
   "metadata": {},
   "outputs": [],
   "source": []
  }
 ],
 "metadata": {
  "kernelspec": {
   "display_name": "Python 3",
   "language": "python",
   "name": "python3"
  },
  "language_info": {
   "codemirror_mode": {
    "name": "ipython",
    "version": 3
   },
   "file_extension": ".py",
   "mimetype": "text/x-python",
   "name": "python",
   "nbconvert_exporter": "python",
   "pygments_lexer": "ipython3",
   "version": "3.8.11"
  }
 },
 "nbformat": 4,
 "nbformat_minor": 5
}
